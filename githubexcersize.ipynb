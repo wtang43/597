{
 "cells": [
  {
   "cell_type": "code",
   "execution_count": null,
   "id": "c43141f6-059b-4720-be68-828dae362936",
   "metadata": {},
   "outputs": [],
   "source": [
    "def add (a,b): \n",
    "    return a+b"
   ]
  }
 ],
 "metadata": {
  "kernelspec": {
   "display_name": "Python (.conda-sarn_env)",
   "language": "python",
   "name": "conda-env-.conda-sarn_env-py"
  },
  "language_info": {
   "codemirror_mode": {
    "name": "ipython",
    "version": 3
   },
   "file_extension": ".py",
   "mimetype": "text/x-python",
   "name": "python",
   "nbconvert_exporter": "python",
   "pygments_lexer": "ipython3",
   "version": "3.10.9"
  }
 },
 "nbformat": 4,
 "nbformat_minor": 5
}
